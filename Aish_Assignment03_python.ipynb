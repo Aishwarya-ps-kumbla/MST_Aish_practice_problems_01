{
  "nbformat": 4,
  "nbformat_minor": 0,
  "metadata": {
    "colab": {
      "provenance": [],
      "authorship_tag": "ABX9TyPDm21A+AlZLXOPD5YXYLIM",
      "include_colab_link": true
    },
    "kernelspec": {
      "name": "python3",
      "display_name": "Python 3"
    },
    "language_info": {
      "name": "python"
    }
  },
  "cells": [
    {
      "cell_type": "markdown",
      "metadata": {
        "id": "view-in-github",
        "colab_type": "text"
      },
      "source": [
        "<a href=\"https://colab.research.google.com/github/Aishwarya-ps-kumbla/MST_Aish_practice_problems_01/blob/main/Aish_Assignment03_python.ipynb\" target=\"_parent\"><img src=\"https://colab.research.google.com/assets/colab-badge.svg\" alt=\"Open In Colab\"/></a>"
      ]
    },
    {
      "cell_type": "code",
      "execution_count": 20,
      "metadata": {
        "id": "1ZovWP5GFBrC"
      },
      "outputs": [],
      "source": [
        "#1. Write a function that returns the middle value among three integers.Write code to test this function with different inputs.\n",
        "\n",
        "def middle_value(num):\n",
        "  # Convert the map object to a list\n",
        "  num_list = list(num)\n",
        "\n",
        "  # Sort the list\n",
        "  num_list.sort()\n",
        "\n",
        "  # Return the middle value\n",
        "  return num_list[1]\n",
        "\n",
        ""
      ]
    },
    {
      "cell_type": "code",
      "source": [
        "num=[]\n",
        "num=map(int,input(\"enter three numbers :\").split(' '))\n",
        "print('The middle value is',middle_value(num))"
      ],
      "metadata": {
        "colab": {
          "base_uri": "https://localhost:8080/"
        },
        "id": "mxhrVAd-H8MI",
        "outputId": "a8491b72-e818-431f-9067-899fb716c67b"
      },
      "execution_count": 21,
      "outputs": [
        {
          "output_type": "stream",
          "name": "stdout",
          "text": [
            "enter three numbers :2 1 5\n",
            "The middle value is 2\n"
          ]
        }
      ]
    },
    {
      "cell_type": "code",
      "source": [
        "#.2. Build a calculator in Python using functions\n",
        "class calcs:\n",
        "    def __init__(self,n1,n2):\n",
        "        self.n1 = n1\n",
        "        self.n2 = n2\n",
        "\n",
        "    def add(self):\n",
        "        return self.n1 + self.n2\n",
        "\n",
        "    def sub(self):\n",
        "        return self.n1 - self.n2\n",
        "\n",
        "    def prod(self):\n",
        "        return self.n1 * self.n2\n",
        "\n",
        "    def div(self):\n",
        "        return self.n1 / self.n2\n",
        "\n"
      ],
      "metadata": {
        "id": "Ws8ltpTWFnC4"
      },
      "execution_count": 33,
      "outputs": []
    },
    {
      "cell_type": "code",
      "source": [
        "n = calcs(8, 3)\n",
        "print(n.add())\n",
        "print(n.sub())\n",
        "print(n.prod())\n",
        "print(n.div())"
      ],
      "metadata": {
        "colab": {
          "base_uri": "https://localhost:8080/"
        },
        "id": "5NBMdzPBLUke",
        "outputId": "a682ef32-9145-42af-dbf4-eebb5245b31e"
      },
      "execution_count": 37,
      "outputs": [
        {
          "output_type": "stream",
          "name": "stdout",
          "text": [
            "11\n",
            "5\n",
            "24\n",
            "2.6666666666666665\n"
          ]
        }
      ]
    },
    {
      "cell_type": "code",
      "source": [
        "#.3. Write a function that takes the lengths of the two shorter sides of a right triangle as its\n",
        "'''parameters. Return the hypotenuse of the triangle, computed using Pythagorean theorem,\n",
        "as the function’s result.'''\n",
        "\n",
        "import math\n",
        "def right_triangle(a,b):\n",
        " c = math.sqrt(a**2 + b**2)\n",
        " return c\n",
        "\n"
      ],
      "metadata": {
        "id": "hktLBjdTIr2o"
      },
      "execution_count": 45,
      "outputs": []
    },
    {
      "cell_type": "code",
      "source": [
        "a=float(input(\"enter adjacent side :\"))\n",
        "b=float(input(\"enter opposite side :\"))\n",
        "print('The hypotenuse is:',right_triangle(a,b))"
      ],
      "metadata": {
        "colab": {
          "base_uri": "https://localhost:8080/"
        },
        "id": "JHXl3uMePcjK",
        "outputId": "9e65e3a5-e341-415b-9ea6-5a5ef14f6c0f"
      },
      "execution_count": 48,
      "outputs": [
        {
          "output_type": "stream",
          "name": "stdout",
          "text": [
            "enter adjacent side :3.0\n",
            "enter opposite side :4.0\n",
            "The hypotenuse is: 5.0\n"
          ]
        }
      ]
    },
    {
      "cell_type": "code",
      "source": [
        "#4. The Rectangle problem\n",
        "'''(a) Write a Rectangle class in Python language, allowing you to build a rectangle with\n",
        "length and width attributes.\n",
        "(b) Create a Perimeter() method to calculate the perimeter of the rectangle and a Area()\n",
        "method to calculate the area of the rectangle.\n",
        "(c) Create a method display() that display the length, width, perimeter and area of an\n",
        "object created using an instantiation on rectangle class.'''\n",
        "\n",
        "\n",
        "class Rectangle:\n",
        "    def __init__(self):\n",
        "        self.length = int(input('Enter length '))\n",
        "        self.width = int(input('Enter width '))\n",
        "\n",
        "    def perimeter(self):\n",
        "        return 2*(self.length+self.width)\n",
        "\n",
        "    def area(self):\n",
        "        return self.length*self.width\n",
        "\n",
        "    def display(self):\n",
        "        return print(f'Length : {self.length}, Width :{self.width}, Perimeter, : {self.perimeter()} ,Area: {self.area()}')"
      ],
      "metadata": {
        "id": "7eUr8u2IOYiV"
      },
      "execution_count": 95,
      "outputs": []
    },
    {
      "cell_type": "code",
      "source": [
        "c1=Rectangle()"
      ],
      "metadata": {
        "colab": {
          "base_uri": "https://localhost:8080/"
        },
        "id": "9CaGJ_iER_gy",
        "outputId": "97988bcb-f84d-4254-b1d9-0aa67d96a34c"
      },
      "execution_count": 96,
      "outputs": [
        {
          "name": "stdout",
          "output_type": "stream",
          "text": [
            "Enter length 10\n",
            "Enter width 15\n"
          ]
        }
      ]
    },
    {
      "cell_type": "code",
      "source": [
        "c1.perimeter()"
      ],
      "metadata": {
        "colab": {
          "base_uri": "https://localhost:8080/"
        },
        "id": "iwK7023ZU9pP",
        "outputId": "89083506-df8b-488f-ca03-1fa8e0454f30"
      },
      "execution_count": 97,
      "outputs": [
        {
          "output_type": "execute_result",
          "data": {
            "text/plain": [
              "50"
            ]
          },
          "metadata": {},
          "execution_count": 97
        }
      ]
    },
    {
      "cell_type": "code",
      "source": [
        "c1.area()"
      ],
      "metadata": {
        "colab": {
          "base_uri": "https://localhost:8080/"
        },
        "id": "Y0Km147ZVyvC",
        "outputId": "52d16467-f709-4293-cf5c-035301aa98b2"
      },
      "execution_count": 98,
      "outputs": [
        {
          "output_type": "execute_result",
          "data": {
            "text/plain": [
              "150"
            ]
          },
          "metadata": {},
          "execution_count": 98
        }
      ]
    },
    {
      "cell_type": "code",
      "source": [
        "print(c1.display())"
      ],
      "metadata": {
        "colab": {
          "base_uri": "https://localhost:8080/"
        },
        "id": "d0alMV-6WW4C",
        "outputId": "0daa7d01-bb19-48fa-83f7-092cdd0117d7"
      },
      "execution_count": 99,
      "outputs": [
        {
          "output_type": "stream",
          "name": "stdout",
          "text": [
            "Length : 10, Width :15, Perimeter, : 50 ,Area: 150\n",
            "None\n"
          ]
        }
      ]
    },
    {
      "cell_type": "code",
      "source": [
        "#5. The Bank Account problem\n",
        "'''(a) Create a Python class called BankAccount which represents a bank account, having\n",
        "as attributes: accountNumber (numeric type), name (name of the account owner as\n",
        "string type), balance.\n",
        "(b) Create a constructor with parameters: accountNumber, name, balance.\n",
        "(c) Create a Deposit() method which manages the deposit actions.\n",
        "(d) Create a Withdrawal() method which manages withdrawals actions.\n",
        "(e) Create an bankFees() method to apply the bank fees with a percentage of 5% of the\n",
        "balance account.\n",
        "(f) Create a display() method to display account details.'''\n",
        "\n",
        "class BankAccount:\n",
        "   def __init__(self,accountNumber,name,balance):\n",
        "            self.accountNumber=accountNumber\n",
        "            self.name=name\n",
        "            self.__balance=balance\n",
        "   def Deposit(self, amount):\n",
        "        self.__balance += amount\n",
        "\n",
        "   def Withdrawal(self, amount):\n",
        "        if amount <= self.__balance:\n",
        "            self.__balance -= amount\n",
        "        else:print(\"Insufficient balance\")\n",
        "\n",
        "   def get_balance(self):\n",
        "        return self.__balance\n",
        "\n",
        "   def bankFees(self):\n",
        "        global Fees\n",
        "        Fees=0\n",
        "        Fees+=(5*self.__balance)/100\n",
        "        self.__balance=self.get_balance()-Fees\n",
        "        return f'Fees: {Fees} Balance: {self.get_balance()}'\n",
        "\n",
        "   def display(self):\n",
        "            return f'Account holder name : {self.name}\\nAccount Balance:{self.__balance}'\n",
        "\n",
        "\n",
        "a1=BankAccount(1234,'Dev',10000)"
      ],
      "metadata": {
        "id": "njmVBdLhWYt4"
      },
      "execution_count": 157,
      "outputs": []
    },
    {
      "cell_type": "code",
      "source": [
        "a1.Deposit(2000)"
      ],
      "metadata": {
        "id": "YfXSD7igbZSo"
      },
      "execution_count": 158,
      "outputs": []
    },
    {
      "cell_type": "code",
      "source": [
        "a1.get_balance()"
      ],
      "metadata": {
        "colab": {
          "base_uri": "https://localhost:8080/"
        },
        "id": "6GmsLc7Nbtp_",
        "outputId": "0fe02dd1-4b03-4854-9a2e-5c5622dc987d"
      },
      "execution_count": 159,
      "outputs": [
        {
          "output_type": "execute_result",
          "data": {
            "text/plain": [
              "12000"
            ]
          },
          "metadata": {},
          "execution_count": 159
        }
      ]
    },
    {
      "cell_type": "code",
      "source": [
        "a1.Withdrawal(500)"
      ],
      "metadata": {
        "id": "q4SxNzmTbzU3"
      },
      "execution_count": 160,
      "outputs": []
    },
    {
      "cell_type": "code",
      "source": [
        "a1.get_balance()"
      ],
      "metadata": {
        "colab": {
          "base_uri": "https://localhost:8080/"
        },
        "id": "V9ukHQUOb4MX",
        "outputId": "83dbf503-6479-450d-a0a6-ed44a60a2afe"
      },
      "execution_count": 161,
      "outputs": [
        {
          "output_type": "execute_result",
          "data": {
            "text/plain": [
              "11500"
            ]
          },
          "metadata": {},
          "execution_count": 161
        }
      ]
    },
    {
      "cell_type": "code",
      "source": [
        "a1.Withdrawal(15000)"
      ],
      "metadata": {
        "colab": {
          "base_uri": "https://localhost:8080/"
        },
        "id": "c6acJlvIcINn",
        "outputId": "8b1fe439-80e3-4af2-9594-3bc275963fd8"
      },
      "execution_count": 162,
      "outputs": [
        {
          "output_type": "stream",
          "name": "stdout",
          "text": [
            "Insufficient balance\n"
          ]
        }
      ]
    },
    {
      "cell_type": "code",
      "source": [
        "a1.bankFees()"
      ],
      "metadata": {
        "colab": {
          "base_uri": "https://localhost:8080/",
          "height": 35
        },
        "id": "iEn3Nb1jdyHB",
        "outputId": "66301cf7-0fc2-41b5-ecf2-4129460edd6f"
      },
      "execution_count": 163,
      "outputs": [
        {
          "output_type": "execute_result",
          "data": {
            "text/plain": [
              "'Fees: 575.0 Balance: 10925.0'"
            ],
            "application/vnd.google.colaboratory.intrinsic+json": {
              "type": "string"
            }
          },
          "metadata": {},
          "execution_count": 163
        }
      ]
    },
    {
      "cell_type": "code",
      "source": [
        "print(a1.display())"
      ],
      "metadata": {
        "colab": {
          "base_uri": "https://localhost:8080/"
        },
        "id": "cOmhBmqVcNIW",
        "outputId": "419cda26-b32e-4e66-9b11-18d977498448"
      },
      "execution_count": 164,
      "outputs": [
        {
          "output_type": "stream",
          "name": "stdout",
          "text": [
            "Account holder name : Dev\n",
            "Account Balance:10925.0\n"
          ]
        }
      ]
    },
    {
      "cell_type": "code",
      "source": [],
      "metadata": {
        "id": "V0uD2YglcZmd"
      },
      "execution_count": null,
      "outputs": []
    }
  ]
}