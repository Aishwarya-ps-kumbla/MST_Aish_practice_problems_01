{
  "nbformat": 4,
  "nbformat_minor": 0,
  "metadata": {
    "colab": {
      "provenance": [],
      "authorship_tag": "ABX9TyOMZteFMzvCRgrZ9/7oliLB",
      "include_colab_link": true
    },
    "kernelspec": {
      "name": "python3",
      "display_name": "Python 3"
    },
    "language_info": {
      "name": "python"
    }
  },
  "cells": [
    {
      "cell_type": "markdown",
      "metadata": {
        "id": "view-in-github",
        "colab_type": "text"
      },
      "source": [
        "<a href=\"https://colab.research.google.com/github/Aishwarya-ps-kumbla/MST_Aish_practice_problems_01/blob/main/MST_Python_Week2_Assignment.ipynb\" target=\"_parent\"><img src=\"https://colab.research.google.com/assets/colab-badge.svg\" alt=\"Open In Colab\"/></a>"
      ]
    },
    {
      "cell_type": "code",
      "execution_count": null,
      "metadata": {
        "colab": {
          "base_uri": "https://localhost:8080/"
        },
        "id": "0x7yHCTpH3Bb",
        "outputId": "ad42181c-8436-4946-dfb5-b18b0f5f6bc1"
      },
      "outputs": [
        {
          "output_type": "stream",
          "name": "stdout",
          "text": [
            "Enter a number between 1 and 107\n",
            "Congratulations! You guessed the number correctly!\n"
          ]
        }
      ],
      "source": [
        "'''1. Write an interactive Python Program to implement following “Guess Game”\n",
        "i. Think of a number between 1 and 10 and store it in a variable called\n",
        "\"secretNumber\".\n",
        "ii. Ask the user to enter a number between 1 and 10 and store it in a variable called\n",
        "\"guess\".\n",
        "iii. Use control statements (if-else) to check if the guess is correct, higher, or lower\n",
        "than the secret number.\n",
        "iv. Display appropriate messages to the user based on their guess:\n",
        "• If the guess is correct, display \"Congratulations! You guessed the number\n",
        "correctly!\"\n",
        "• If the guess is higher than the secret number, display \"Too high! Try\n",
        "again.\"\n",
        "• If the guess is lower than the secret number, display \"Too low! Try again.\"\n",
        "v. Allow the user to keep guessing until they guess the correct number.'''\n",
        "\n",
        "import random\n",
        "\n",
        "secret_number = random.randint(1,10)\n",
        "guess=int(input(\"Enter a number between 1 and 10 \"))\n",
        "if secret_number == guess:\n",
        "  print(\"Congratulations! You guessed the number correctly!\")\n",
        "elif secret_number > guess:\n",
        "  print(\"Too low! Try again.\")\n",
        "elif secret_number < guess:\n",
        "  print(\"Too high! Try again.\")\n",
        "\n"
      ]
    },
    {
      "cell_type": "code",
      "source": [
        "'''2. Write a program to find and print the Factorial of this number. The Factorial of a positive\n",
        "integer N refers to the product of all number in the range from 1 to N.'''\n",
        "\n",
        "num = int(input(\"Enter the number: \"))\n",
        "\n",
        "fact = 1\n",
        "\n",
        "if num < 0:\n",
        "   print(\"Factorial does not exist for negative numbers\")\n",
        "elif num == 0:\n",
        "   print(\"The factorial of 0 is 1\")\n",
        "else:\n",
        "   for i in range(1,num + 1):\n",
        "       fact = fact*i\n",
        "   print(f\"The factorial of {num} is\",fact)\n"
      ],
      "metadata": {
        "colab": {
          "base_uri": "https://localhost:8080/"
        },
        "id": "a7rXyoBeL2wv",
        "outputId": "8a3d2bb0-b0f2-41fa-ea38-8fd0317dc1b6"
      },
      "execution_count": 1,
      "outputs": [
        {
          "output_type": "stream",
          "name": "stdout",
          "text": [
            "Enter the number: 8\n",
            "The factorial of 8 is 40320\n"
          ]
        }
      ]
    },
    {
      "cell_type": "markdown",
      "source": [
        "3.Roy wants to change his profile picture on Facebook. Now Facebook has some\n",
        "restriction over the dimension of picture that we can upload.\n",
        "Minimum dimension of the picture can be L x L, where L is the length of the side of square. Now Roy has N photos of various dimensions.\n",
        "Dimension of a photo is denoted as W x H\n",
        "where W - width of the photo and H - Height of the photo\n",
        "• When any photo is uploaded following events may occur:\n",
        "[1] If any of the width or height is less than L, user is prompted to upload another one. Print \"UPLOAD ANOTHER\" in this case.\n",
        "[2] If width and height, both are large enough and\n",
        "(a) if the photo is already square then it is accepted. Print \"ACCEPTED\" in this\n",
        "case.\n",
        "(b) else user is prompted to crop it. Print \"CROP IT\" in this case.\n",
        "Given L, N, W and H as input, write a program to print appropriate text as output."
      ],
      "metadata": {
        "id": "uQTf9ApXNpSo"
      }
    },
    {
      "cell_type": "code",
      "source": [
        "\n",
        "N = int(input(\"Enter the number of photos to be uploaded: \"))\n",
        "\n",
        "for i in range (N):\n",
        "  W = int(input(\"Enter the width: \"))\n",
        "  H = int(input(\"Enter the height: \"))\n",
        "  L = int(input(\"Enter the length of the side of square: \"))\n",
        "\n",
        "  if W<L or H<L:\n",
        "    print(\"UPLOAD ANOTHER\")\n",
        "\n",
        "  elif W==L and H==L:\n",
        "    print(\"ACCEPTED\")\n",
        "\n",
        "  else: print(\"CROP IT\")\n"
      ],
      "metadata": {
        "colab": {
          "base_uri": "https://localhost:8080/"
        },
        "id": "Tr4EMQZmS4bA",
        "outputId": "d9ca034f-86df-4990-9a52-df6145813931"
      },
      "execution_count": null,
      "outputs": [
        {
          "output_type": "stream",
          "name": "stdout",
          "text": [
            "Enter the number of photos to be uploaded: 5\n",
            "Enter the width: 60\n",
            "Enter the height: 50\n",
            "Enter the length of the side of square: 100\n",
            "UPLOAD ANOTHER\n",
            "Enter the width: 60\n",
            "Enter the height: 50\n",
            "Enter the length of the side of square: 30\n",
            "CROP IT\n",
            "Enter the width: 50\n",
            "Enter the height: 60\n",
            "Enter the length of the side of square: 60\n",
            "UPLOAD ANOTHER\n",
            "Enter the width: 60\n",
            "Enter the height: 60\n",
            "Enter the length of the side of square: 60\n",
            "ACCEPTED\n",
            "Enter the width: 50\n",
            "Enter the height: 50\n",
            "Enter the length of the side of square: 50\n",
            "ACCEPTED\n"
          ]
        }
      ]
    },
    {
      "cell_type": "code",
      "source": [],
      "metadata": {
        "id": "As7XiZAVUt5b"
      },
      "execution_count": null,
      "outputs": []
    }
  ]
}