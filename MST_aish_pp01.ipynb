{
  "nbformat": 4,
  "nbformat_minor": 0,
  "metadata": {
    "colab": {
      "provenance": [],
      "include_colab_link": true
    },
    "kernelspec": {
      "name": "python3",
      "display_name": "Python 3"
    },
    "language_info": {
      "name": "python"
    }
  },
  "cells": [
    {
      "cell_type": "markdown",
      "metadata": {
        "id": "view-in-github",
        "colab_type": "text"
      },
      "source": [
        "<a href=\"https://colab.research.google.com/github/Aishwarya-ps-kumbla/MST_Aish_practice_problems_01/blob/main/MST_aish_pp01.ipynb\" target=\"_parent\"><img src=\"https://colab.research.google.com/assets/colab-badge.svg\" alt=\"Open In Colab\"/></a>"
      ]
    },
    {
      "cell_type": "markdown",
      "source": [
        "Day01 practice problems"
      ],
      "metadata": {
        "id": "8DTtRriiOKde"
      }
    },
    {
      "cell_type": "code",
      "source": [
        "#1.Given the string \"Hello, World!\", extract and print the substring \"Hello\".\n",
        "\n",
        "s1=\"Hello, World!\"\n",
        "print(s1[:5])"
      ],
      "metadata": {
        "colab": {
          "base_uri": "https://localhost:8080/"
        },
        "id": "-rmc416oN9PZ",
        "outputId": "a1083c9e-4f56-4070-c71c-96797d4448fe"
      },
      "execution_count": null,
      "outputs": [
        {
          "output_type": "stream",
          "name": "stdout",
          "text": [
            "Hello\n"
          ]
        }
      ]
    },
    {
      "cell_type": "code",
      "source": [
        "#2.Given the string \"Python is fun\", extract and print the substring \"is\"\n",
        "\n",
        "s2=\"Python is fun\"\n",
        "print(s2[7:9])"
      ],
      "metadata": {
        "colab": {
          "base_uri": "https://localhost:8080/"
        },
        "id": "q--2ydiBOlsA",
        "outputId": "a9ea2a2b-9b51-44c4-ad15-81c3d4f02ae6"
      },
      "execution_count": null,
      "outputs": [
        {
          "output_type": "stream",
          "name": "stdout",
          "text": [
            "is\n"
          ]
        }
      ]
    },
    {
      "cell_type": "code",
      "source": [
        "#3.Given the string \"Programming\", extract and print the string \"gram\" using slicing indices.\n",
        "\n",
        "s3=\"Programming\"\n",
        "print(s3[3:7])"
      ],
      "metadata": {
        "colab": {
          "base_uri": "https://localhost:8080/"
        },
        "id": "g3mZ4dNtO-FW",
        "outputId": "08ad4ae0-38ba-4d45-8b68-a02d2904aa03"
      },
      "execution_count": null,
      "outputs": [
        {
          "output_type": "stream",
          "name": "stdout",
          "text": [
            "gram\n"
          ]
        }
      ]
    },
    {
      "cell_type": "code",
      "source": [
        "#4.Given the string \"abcdefgh\", use slicing to print only the characters at even indices.\n",
        "\n",
        "s4=\"abcdefgh\"\n",
        "print(s4[::2])"
      ],
      "metadata": {
        "colab": {
          "base_uri": "https://localhost:8080/"
        },
        "id": "RVPnIcBTPtGx",
        "outputId": "ef7d722b-7e43-4f37-895f-834b37a9f962"
      },
      "execution_count": null,
      "outputs": [
        {
          "output_type": "stream",
          "name": "stdout",
          "text": [
            "aceg\n"
          ]
        }
      ]
    },
    {
      "cell_type": "code",
      "source": [
        "#5.Given the string \"abcdefg\", use negative indices to extract and print the substring \"efg\".\n",
        "\n",
        "s5=\"abcdefg\"\n",
        "print(s5[-3:])"
      ],
      "metadata": {
        "colab": {
          "base_uri": "https://localhost:8080/"
        },
        "id": "JVehQjvKP_LI",
        "outputId": "bc9b782c-f046-44c3-9490-91ae2c861e97"
      },
      "execution_count": null,
      "outputs": [
        {
          "output_type": "stream",
          "name": "stdout",
          "text": [
            "efg\n"
          ]
        }
      ]
    },
    {
      "cell_type": "code",
      "source": [
        "#6.Given the string \"Data Science\", use negative indices to extract and print the last three characters.\n",
        "\n",
        "s6=\"Data Science\"\n",
        "print(s6[-3:])"
      ],
      "metadata": {
        "colab": {
          "base_uri": "https://localhost:8080/"
        },
        "id": "nl0feH3iQhYa",
        "outputId": "c54273f6-e83a-4968-82a9-d598a01ea070"
      },
      "execution_count": null,
      "outputs": [
        {
          "output_type": "stream",
          "name": "stdout",
          "text": [
            "nce\n"
          ]
        }
      ]
    },
    {
      "cell_type": "code",
      "source": [
        "#7.Given the string \"abcdefghij\", use slicing with a step to print every second character.\n",
        "\n",
        "s7=\"abcdefghij\"\n",
        "print(s7[1::2])"
      ],
      "metadata": {
        "colab": {
          "base_uri": "https://localhost:8080/"
        },
        "id": "TjvdxJD4Sxoz",
        "outputId": "09c6fdb3-a4eb-40d3-a52d-c9b998355a9b"
      },
      "execution_count": null,
      "outputs": [
        {
          "output_type": "stream",
          "name": "stdout",
          "text": [
            "bdfhj\n"
          ]
        }
      ]
    },
    {
      "cell_type": "code",
      "source": [
        "#8.Given the string \"1234567890\", use slicing with a step to print the odd digits.\n",
        "\n",
        "s8=\"1234567890\"\n",
        "print(s8[::2])"
      ],
      "metadata": {
        "colab": {
          "base_uri": "https://localhost:8080/"
        },
        "id": "HZ8MyfD6TI5X",
        "outputId": "fa7c9601-03f3-4fef-edc0-e7a49e303f7d"
      },
      "execution_count": null,
      "outputs": [
        {
          "output_type": "stream",
          "name": "stdout",
          "text": [
            "13579\n"
          ]
        }
      ]
    },
    {
      "cell_type": "code",
      "source": [
        "#9.Given the string \"Hello\", use slicing to print the string in reverse order.\n",
        "\n",
        "s9=\"Hello\"\n",
        "print(s9[::-1])\n"
      ],
      "metadata": {
        "colab": {
          "base_uri": "https://localhost:8080/"
        },
        "id": "EO-HBlh7Tnjo",
        "outputId": "41061e97-fe69-4bee-f796-6c22cdafdb54"
      },
      "execution_count": null,
      "outputs": [
        {
          "output_type": "stream",
          "name": "stdout",
          "text": [
            "olleH\n"
          ]
        }
      ]
    },
    {
      "cell_type": "code",
      "source": [
        "#10.Given the string \"abcdefghijk\", extract and print the substring \"acegik\" using slicing.\n",
        "\n",
        "s10=\"abcdefghijk\"\n",
        "print(s10[::2])"
      ],
      "metadata": {
        "colab": {
          "base_uri": "https://localhost:8080/"
        },
        "id": "7QZhRKRrT_87",
        "outputId": "75abb483-9756-48e2-ef32-ec9b1b8d5817"
      },
      "execution_count": null,
      "outputs": [
        {
          "output_type": "stream",
          "name": "stdout",
          "text": [
            "acegik\n"
          ]
        }
      ]
    },
    {
      "cell_type": "code",
      "source": [],
      "metadata": {
        "id": "DtfG3zHoUWQP"
      },
      "execution_count": null,
      "outputs": []
    }
  ]
}