{
  "nbformat": 4,
  "nbformat_minor": 0,
  "metadata": {
    "colab": {
      "provenance": [],
      "authorship_tag": "ABX9TyPDhJChjSeX/ul7dW3qUHd8",
      "include_colab_link": true
    },
    "kernelspec": {
      "name": "python3",
      "display_name": "Python 3"
    },
    "language_info": {
      "name": "python"
    }
  },
  "cells": [
    {
      "cell_type": "markdown",
      "metadata": {
        "id": "view-in-github",
        "colab_type": "text"
      },
      "source": [
        "<a href=\"https://colab.research.google.com/github/Aishwarya-ps-kumbla/MST_Aish_practice_problems_01/blob/main/MST_Aish_pp02.ipynb\" target=\"_parent\"><img src=\"https://colab.research.google.com/assets/colab-badge.svg\" alt=\"Open In Colab\"/></a>"
      ]
    },
    {
      "cell_type": "code",
      "execution_count": 8,
      "metadata": {
        "colab": {
          "base_uri": "https://localhost:8080/"
        },
        "id": "hTN5a-INIGbw",
        "outputId": "ef522d6b-030f-4795-b707-bfb2466511d9"
      },
      "outputs": [
        {
          "output_type": "stream",
          "name": "stdout",
          "text": [
            "Enter number of elements in the list: 5\n",
            "8\n",
            "10\n",
            "12\n",
            "100\n",
            "6\n",
            "[8, 10, 12, 100, 6]\n",
            "Sum of elements= 136\n"
          ]
        }
      ],
      "source": [
        "#1. Write a program to find sum of all elements in a list of integers.\n",
        "list1 = []\n",
        "\n",
        "n = int(input(\"Enter number of elements in the list: \"))\n",
        "\n",
        "for i in range(n):\n",
        "    num = int(input())\n",
        "    list1.append(num)\n",
        "\n",
        "print(list1)\n",
        "\n",
        "sum=0\n",
        "for j in range(n):\n",
        " sum=sum+list1[j]\n",
        "print(\"Sum of elements=\",sum)"
      ]
    },
    {
      "cell_type": "code",
      "source": [
        "'''2. Input a sentence as a string.\n",
        "a) Print its length\n",
        "b) Print the first half of string'''\n",
        "\n",
        "string=input('Enter the string ')\n",
        "l=len(string)\n",
        "print('length= ',l)\n",
        "h=l//2\n",
        "print('First half of string= ',string[:h])"
      ],
      "metadata": {
        "colab": {
          "base_uri": "https://localhost:8080/"
        },
        "id": "E-irl7tZJEnY",
        "outputId": "4f6321b1-b884-40a2-8d41-2b7026924ddf"
      },
      "execution_count": 9,
      "outputs": [
        {
          "output_type": "stream",
          "name": "stdout",
          "text": [
            "Enter the string Hello Python\n",
            "length=  12\n",
            "First half of string=  Hello \n"
          ]
        }
      ]
    },
    {
      "cell_type": "code",
      "source": [
        "'''3. Write a program to enter a tuple of integers as (78,45,32,19,82,77,40,39).Change the third value in the tuple to 100'''\n",
        "\n",
        "listA = []\n",
        "\n",
        "n = 8 #given length of tuple\n",
        "\n",
        "for i in range(n):\n",
        "    num = int(input())\n",
        "    listA.append(num)\n",
        "\n",
        "t1=tuple(listA)\n",
        "print('Tuple:',t1)\n",
        "\n",
        "listA[2]=100\n",
        "t1=tuple(listA)\n",
        "print('New tuple:',t1)\n"
      ],
      "metadata": {
        "colab": {
          "base_uri": "https://localhost:8080/"
        },
        "id": "SvR7fCmdKLCO",
        "outputId": "54a5f53a-a12a-4ef9-8fe5-dcef5d128c18"
      },
      "execution_count": 10,
      "outputs": [
        {
          "output_type": "stream",
          "name": "stdout",
          "text": [
            "78\n",
            "45\n",
            "32\n",
            "19\n",
            "82\n",
            "77\n",
            "40\n",
            "39\n",
            "Tuple: (78, 45, 32, 19, 82, 77, 40, 39)\n",
            "New tuple: (78, 45, 100, 19, 82, 77, 40, 39)\n"
          ]
        }
      ]
    },
    {
      "cell_type": "code",
      "source": [
        "#4. Consider a list listA=[19,32,10,55,31,32,94,29,10,65,77,40,40]\n",
        "\n",
        "listA=[19,32,10,55,31,32,94,29,10,65,77,40,40]\n",
        "print(listA)\n",
        "\n",
        "#(a) Delete the first occurrence of 32\n",
        "listA.remove(32)\n",
        "print(listA)\n",
        "\n",
        "#(b) Delete all occurrences of 40\n",
        "c=listA.count(40)\n",
        "for i in range(c):\n",
        "  if c!=0:\n",
        "    listA.remove(40)\n",
        "print(listA)\n",
        "\n",
        "#(c) Delete the value at index=5\n",
        "del listA[5]\n",
        "print(listA)\n",
        "\n",
        "#(d) Modify the value at index=9 as 300\n",
        "listA.append(300)\n",
        "print(listA)\n",
        "\n",
        "#(e) Add 200 at index=2\n",
        "listA.insert(2,200)\n",
        "print(listA)\n",
        "\n",
        "#(f) Print the final list with its length, maximum value and sum of all elements\n",
        "print('Final list=',listA)\n",
        "l=len(listA)\n",
        "print('Length of listA= ',l)\n",
        "import math\n",
        "m= max(listA)\n",
        "print('Maximum value=',m)\n",
        "s=0\n",
        "for i in range(l):\n",
        "  s= s + listA[i]\n",
        "print('Sum of all elements=',s)\n"
      ],
      "metadata": {
        "colab": {
          "base_uri": "https://localhost:8080/"
        },
        "id": "-18Ew56BPuIH",
        "outputId": "c5019183-523a-4685-c652-01bd5b190900"
      },
      "execution_count": 12,
      "outputs": [
        {
          "output_type": "stream",
          "name": "stdout",
          "text": [
            "[19, 32, 10, 55, 31, 32, 94, 29, 10, 65, 77, 40, 40]\n",
            "[19, 10, 55, 31, 32, 94, 29, 10, 65, 77, 40, 40]\n",
            "[19, 10, 55, 31, 32, 94, 29, 10, 65, 77]\n",
            "[19, 10, 55, 31, 32, 29, 10, 65, 77]\n",
            "[19, 10, 55, 31, 32, 29, 10, 65, 77, 300]\n",
            "[19, 10, 200, 55, 31, 32, 29, 10, 65, 77, 300]\n",
            "Final list= [19, 10, 200, 55, 31, 32, 29, 10, 65, 77, 300]\n",
            "Length of listA=  11\n",
            "Maximum value= 300\n",
            "Sum of all elements= 828\n"
          ]
        }
      ]
    },
    {
      "cell_type": "code",
      "source": [
        "#5. Consider a string ”The day has been long”.\n",
        "#(a) Delete the value at index =4\n",
        "string2=\"The day has been long\"\n",
        "print(string2)\n",
        "string2=string2[:4]+string2[5:]\n",
        "print(string2)\n",
        "\n",
        "#(b) Print the string 4 times in a single line with space between each repetition\n",
        "print(string2+\" \"+string2+\" \"+string2+\" \"+string2)\n",
        "\n",
        "#(c) Print the string 3 times in a new line each time\n",
        "print(string2+\"\\n\"+string2+\"\\n\"+string2)\n",
        "\n",
        "#(d) Modify the string at index 7 as ’A’\n",
        "string2=string2[:7]+'A'+string2[8:]\n",
        "print(string2)\n",
        "\n",
        "#(e) Print the string from index 4 to 15\n",
        "print(string2[4:16])\n",
        "\n",
        "#(f) Print the final string with its length\n",
        "print('Final string is:',string2)\n",
        "l=len(string2)\n",
        "print('Length of the string is',l)"
      ],
      "metadata": {
        "colab": {
          "base_uri": "https://localhost:8080/"
        },
        "id": "9o5Ub12PYD7L",
        "outputId": "a079db74-cc70-48ba-d346-35baaea55ba0"
      },
      "execution_count": 14,
      "outputs": [
        {
          "output_type": "stream",
          "name": "stdout",
          "text": [
            "The day has been long\n",
            "The ay has been long\n",
            "The ay has been long The ay has been long The ay has been long The ay has been long\n",
            "The ay has been long\n",
            "The ay has been long\n",
            "The ay has been long\n",
            "The ay Aas been long\n",
            "ay Aas been \n",
            "Final string is: The ay Aas been long\n",
            "Length of the string is 20\n"
          ]
        }
      ]
    },
    {
      "cell_type": "code",
      "source": [
        ""
      ],
      "metadata": {
        "id": "TBOUiQ-OzoUk"
      },
      "execution_count": null,
      "outputs": []
    }
  ]
}