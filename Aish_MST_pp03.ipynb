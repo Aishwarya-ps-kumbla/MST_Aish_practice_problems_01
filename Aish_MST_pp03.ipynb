{
  "nbformat": 4,
  "nbformat_minor": 0,
  "metadata": {
    "colab": {
      "provenance": [],
      "authorship_tag": "ABX9TyNvZaYkDUgSbwLaGizWcZVp",
      "include_colab_link": true
    },
    "kernelspec": {
      "name": "python3",
      "display_name": "Python 3"
    },
    "language_info": {
      "name": "python"
    }
  },
  "cells": [
    {
      "cell_type": "markdown",
      "metadata": {
        "id": "view-in-github",
        "colab_type": "text"
      },
      "source": [
        "<a href=\"https://colab.research.google.com/github/Aishwarya-ps-kumbla/MST_Aish_practice_problems_01/blob/main/Aish_MST_pp03.ipynb\" target=\"_parent\"><img src=\"https://colab.research.google.com/assets/colab-badge.svg\" alt=\"Open In Colab\"/></a>"
      ]
    },
    {
      "cell_type": "code",
      "execution_count": 9,
      "metadata": {
        "colab": {
          "base_uri": "https://localhost:8080/"
        },
        "id": "Rr2tuIGxtb98",
        "outputId": "1c049a25-afc1-45fb-d248-893b8ad18771"
      },
      "outputs": [
        {
          "output_type": "stream",
          "name": "stdout",
          "text": [
            "enter the score25,64,16,56,73,26\n",
            "The runner-up score is 64\n"
          ]
        }
      ],
      "source": [
        "'''1. Given the participants' score sheet for your University Sports Day, you are required to\n",
        "find the runner-up score. You are given scores. Store them in a list and find the score of\n",
        "the runner-up. (Create an array of scores and print the runner up score)'''\n",
        "\n",
        "\n",
        "score=map(int,input(\"Enter the score: \").split(','))\n",
        "score_list=list(score)\n",
        "\n",
        "final_score=sorted(score_list)\n",
        "print('The runner-up score is',final_score[-2])"
      ]
    },
    {
      "cell_type": "code",
      "source": [
        "'''2. A dictionary is given D={‘John’ [25,32,43],’Peter’:[87,55,96],’Ram’:[58,55,43],’Meena’:[63,79,85]}\n",
        "Get a name from user if the name in the dictionary change the values corresponding to\n",
        "that user to [88,77,99] and print the dictionary. Else print ‘Name not found’.'''\n",
        "\n",
        "\n",
        "D={'John':[25,32,43],'Peter':[87,55,96],'Ram':[58,55,43],'Meena':[63,79,85]}\n",
        "n=input(\"Enter the name: \")\n",
        "name=n.title()\n",
        "if name in D:\n",
        "  D.update({name:[88,77,99]})\n",
        "  print('Modified dictionary\\n',D)\n",
        "else:print('Name not found')\n"
      ],
      "metadata": {
        "colab": {
          "base_uri": "https://localhost:8080/"
        },
        "id": "YBh-F5T1uIfI",
        "outputId": "96ed9b64-17a6-46c1-916a-fcbfad408d0a"
      },
      "execution_count": 23,
      "outputs": [
        {
          "output_type": "stream",
          "name": "stdout",
          "text": [
            "Enter the name: john\n",
            "Modified dictionary\n",
            " {'John': [88, 77, 99], 'Peter': [87, 55, 96], 'Ram': [58, 55, 43], 'Meena': [63, 79, 85]}\n"
          ]
        }
      ]
    },
    {
      "cell_type": "code",
      "source": [
        "'''3. Ticket Price Calculator:\n",
        "I. Ask the user to enter their age.\n",
        "II. Use control statements (if-elif-else) to calculate the ticket price based on the\n",
        "following conditions:\n",
        "a. If the age is below 5, the ticket price is free.\n",
        "b. If the age is between 5 and 12 (inclusive), the ticket price is Rs.10.\n",
        "c. If the age is above 12, the ticket price is Rs.50.\n",
        "d. If the age is above 60, the ticket price is free.\n",
        "e. If the gender is female, the ticket price is 50% of the applicable rates.\n",
        "III. Display the ticket price to the user'''\n",
        "\n",
        "\n",
        "age=int(input(\"Enter the age: \"))\n",
        "\n",
        "g=input(\"Enter the gender: \")\n",
        "gender=g.lower()\n",
        "\n",
        "if age<5 or age>60:\n",
        "  print(\"The ticket price is free\")\n",
        "\n",
        "elif gender=='female' and age>12:\n",
        "  print(\"The ticket price is 25\")\n",
        "\n",
        "elif age>12:\n",
        "  print(\"The ticket price is 50\")\n",
        "\n",
        "elif gender=='female' and age<=12:\n",
        "  print(\"The ticket price is 5\")\n",
        "\n",
        "else:print(\"The ticket price is 10\")\n",
        "\n"
      ],
      "metadata": {
        "colab": {
          "base_uri": "https://localhost:8080/"
        },
        "id": "C0MV4w_174Xk",
        "outputId": "74922ca2-59b9-4dc4-ec2f-45c6dd172de9"
      },
      "execution_count": 37,
      "outputs": [
        {
          "output_type": "stream",
          "name": "stdout",
          "text": [
            "Enter the age: 13\n",
            "Enter the gender: male\n",
            "The ticket price is 50\n"
          ]
        }
      ]
    },
    {
      "cell_type": "markdown",
      "source": [],
      "metadata": {
        "id": "95G0lEjPCavD"
      }
    },
    {
      "cell_type": "markdown",
      "source": [],
      "metadata": {
        "id": "nkGBReuaCaqC"
      }
    },
    {
      "cell_type": "code",
      "source": [],
      "metadata": {
        "id": "RjgQQuuDBR5m"
      },
      "execution_count": null,
      "outputs": []
    }
  ]
}